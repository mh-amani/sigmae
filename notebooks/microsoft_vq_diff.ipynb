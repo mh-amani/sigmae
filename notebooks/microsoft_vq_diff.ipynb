{
 "cells": [
  {
   "cell_type": "code",
   "execution_count": 1,
   "metadata": {},
   "outputs": [
    {
     "name": "stderr",
     "output_type": "stream",
     "text": [
      "/dlabscratch1/amani/miniconda3/envs/sigmae/lib/python3.11/site-packages/tqdm/auto.py:21: TqdmWarning: IProgress not found. Please update jupyter and ipywidgets. See https://ipywidgets.readthedocs.io/en/stable/user_install.html\n",
      "  from .autonotebook import tqdm as notebook_tqdm\n",
      "Cannot initialize model with low cpu memory usage because `accelerate` was not found in the environment. Defaulting to `low_cpu_mem_usage=False`. It is strongly recommended to install `accelerate` for faster and less memory-intense model loading. You can do so with: \n",
      "```\n",
      "pip install accelerate\n",
      "```\n",
      ".\n",
      "/dlabscratch1/amani/miniconda3/envs/sigmae/lib/python3.11/site-packages/diffusers/pipelines/pipeline_loading_utils.py:219: FutureWarning: You are loading the variant fp16 from microsoft/vq-diffusion-ithq via `revision='fp16'` even though you can load it via `variant=`fp16`. Loading model variants via `revision='fp16'` is deprecated and will be removed in diffusers v1. Please use `variant='fp16'` instead.\n",
      "  warnings.warn(\n",
      "text_encoder/model.safetensors not found\n",
      "Fetching 12 files:  33%|███▎      | 4/12 [00:04<00:09,  1.23s/it]"
     ]
    }
   ],
   "source": [
    "import torch\n",
    "from diffusers import VQDiffusionPipeline\n",
    "\n",
    "pipeline = VQDiffusionPipeline.from_pretrained(\"microsoft/vq-diffusion-ithq\", torch_dtype=torch.float16, revision=\"fp16\")\n",
    "pipeline = pipeline.to(\"cuda\")\n",
    "\n",
    "image = pipeline(\"teddy bear playing in the pool\").images[0]\n",
    "\n",
    "# save image\n",
    "image.save(\"./teddy_bear.png\")"
   ]
  },
  {
   "cell_type": "code",
   "execution_count": null,
   "metadata": {},
   "outputs": [],
   "source": []
  }
 ],
 "metadata": {
  "kernelspec": {
   "display_name": "Python 3",
   "language": "python",
   "name": "python3"
  },
  "language_info": {
   "codemirror_mode": {
    "name": "ipython",
    "version": 3
   },
   "file_extension": ".py",
   "mimetype": "text/x-python",
   "name": "python",
   "nbconvert_exporter": "python",
   "pygments_lexer": "ipython3",
   "version": "3.11.9"
  }
 },
 "nbformat": 4,
 "nbformat_minor": 2
}
